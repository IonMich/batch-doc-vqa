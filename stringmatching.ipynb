{
 "cells": [
  {
   "cell_type": "code",
   "execution_count": null,
   "metadata": {},
   "outputs": [],
   "source": [
    "import string\n",
    "import random\n",
    "import numpy as np\n",
    "import matplotlib.pyplot as plt\n",
    "\n",
    "from string_matching import (\n",
    "    levenshteinDistance,\n",
    "    get_llm_ids_and_fullnames,\n",
    "    get_llm_distances,\n",
    "    get_matches,\n",
    ")"
   ]
  },
  {
   "cell_type": "code",
   "execution_count": null,
   "metadata": {},
   "outputs": [],
   "source": [
    "def randomString(length, alphabet):\n",
    "    return ''.join(random.choice(alphabet) for _ in range(length))\n",
    "\n",
    "def get_random_distance(n, alphabet=string.ascii_lowercase):\n",
    "    s1 = randomString(n, alphabet)\n",
    "    s2 = randomString(n, alphabet)\n",
    "    return levenshteinDistance(s1, s2)\n",
    "\n",
    "def get_random_distances(n, m, alphabet=string.ascii_lowercase):\n",
    "    return [get_random_distance(n, alphabet) for i in range(m)]\n",
    "\n",
    "alphabet = string.digits\n",
    "n = 8\n",
    "k = len(alphabet)\n",
    "n_samples = 100000\n",
    "distances = get_random_distances(n, n_samples, alphabet)\n"
   ]
  },
  {
   "cell_type": "code",
   "execution_count": null,
   "metadata": {},
   "outputs": [],
   "source": [
    "distances = np.array(distances)\n",
    "print('mean:', np.mean(distances))\n",
    "print('std:', np.std(distances))\n",
    "print('min:', np.min(distances))\n",
    "print('max:', np.max(distances))\n",
    "print(len(distances[distances == 3]))\n",
    "print(len(distances[distances == 2]))\n",
    "print(len(distances[distances == 1]))\n",
    "d_cutoff = 2\n",
    "frac_lt_cut = len(distances[distances <= d_cutoff]) / n_samples\n",
    "print(f'percent d <= {d_cutoff}: {frac_lt_cut*100:.5f}%')"
   ]
  },
  {
   "cell_type": "code",
   "execution_count": null,
   "metadata": {},
   "outputs": [],
   "source": [
    "plt.figure()\n",
    "plt.title(f'Levenshtein distance [{n=:}, {k=:}, {n_samples=:}]')\n",
    "plt.hist(distances, bins=[0.5 + i for i in range(n+1)], density=True)\n",
    "plt.xlabel('Levenshtein distance')\n",
    "plt.show()"
   ]
  },
  {
   "cell_type": "code",
   "execution_count": null,
   "metadata": {},
   "outputs": [],
   "source": [
    "df_llm = get_llm_ids_and_fullnames(\"results.json\")\n",
    "df_llm.head()"
   ]
  },
  {
   "cell_type": "code",
   "execution_count": null,
   "metadata": {},
   "outputs": [],
   "source": [
    "df_test = get_llm_distances(df_llm, \"img/doc_info.csv\", \"img/test_ids.csv\")\n",
    "df_test"
   ]
  },
  {
   "cell_type": "code",
   "execution_count": null,
   "metadata": {},
   "outputs": [],
   "source": [
    "df_matching = get_matches(df_test)\n",
    "print(df_matching.query(\"found == False\"))\n",
    "df_matching"
   ]
  }
 ],
 "metadata": {
  "kernelspec": {
   "display_name": "outlines",
   "language": "python",
   "name": "python3"
  },
  "language_info": {
   "codemirror_mode": {
    "name": "ipython",
    "version": 3
   },
   "file_extension": ".py",
   "mimetype": "text/x-python",
   "name": "python",
   "nbconvert_exporter": "python",
   "pygments_lexer": "ipython3",
   "version": "3.10.15"
  }
 },
 "nbformat": 4,
 "nbformat_minor": 2
}
