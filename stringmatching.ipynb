{
 "cells": [
  {
   "cell_type": "code",
   "execution_count": null,
   "metadata": {},
   "outputs": [],
   "source": [
    "import string\n",
    "import random\n",
    "import numpy as np\n",
    "import matplotlib.pyplot as plt\n",
    "\n",
    "from string_matching import (\n",
    "    levenshteinDistance,\n",
    "    get_llm_ids_and_fullnames,\n",
    "    get_llm_distances,\n",
    "    get_matches,\n",
    ")"
   ]
  },
  {
   "cell_type": "code",
   "execution_count": null,
   "metadata": {},
   "outputs": [],
   "source": [
    "def randomString(length, alphabet):\n",
    "    return ''.join(random.choice(alphabet) for _ in range(length))\n",
    "\n",
    "def get_random_distance(n, alphabet=string.ascii_lowercase):\n",
    "    s1 = randomString(n, alphabet)\n",
    "    s2 = randomString(n, alphabet)\n",
    "    return levenshteinDistance(s1, s2)\n",
    "\n",
    "def get_random_distances(n, m, alphabet=string.ascii_lowercase):\n",
    "    return [get_random_distance(n, alphabet) for i in range(m)]\n",
    "\n",
    "alphabet = string.digits\n",
    "n = 8\n",
    "k = len(alphabet)\n",
    "n_samples = 1000000\n",
    "distances = get_random_distances(n, n_samples, alphabet)\n"
   ]
  },
  {
   "cell_type": "code",
   "execution_count": null,
   "metadata": {},
   "outputs": [],
   "source": [
    "distances = np.array(distances)\n",
    "print('mean:', np.mean(distances))\n",
    "print('std:', np.std(distances))\n",
    "print('min:', np.min(distances))\n",
    "print('max:', np.max(distances))\n",
    "print(len(distances[distances == 3]))\n",
    "print(len(distances[distances == 2]))\n",
    "print(len(distances[distances == 1]))\n",
    "d_cutoff = 2\n",
    "frac_lt_cut = len(distances[distances <= d_cutoff]) / n_samples\n",
    "print(f'percent d <= {d_cutoff}: {frac_lt_cut*100:.5f}%')"
   ]
  },
  {
   "cell_type": "code",
   "execution_count": null,
   "metadata": {},
   "outputs": [],
   "source": [
    "plt.figure()\n",
    "plt.title(f'Levenshtein distance [{n=:}, {k=:}, {n_samples=:.0e}]')\n",
    "plt.hist(distances, bins=[0.5 + i for i in range(n+1)], density=True, label=r'$\\mathrm{Prob}(d\\leq2) \\approx$' + f'{frac_lt_cut:.4%}')\n",
    "plt.xlabel('Levenshtein distance')\n",
    "plt.ylabel('Density')\n",
    "plt.legend()\n",
    "plt.savefig(f'levenshtein_distance_{n}_{k}_{n_samples}.png')"
   ]
  },
  {
   "cell_type": "code",
   "execution_count": null,
   "metadata": {},
   "outputs": [],
   "source": [
    "df_llm = get_llm_ids_and_fullnames(\"tests/output/qwen2-VL-2B-results.json\")\n",
    "df_llm.head()"
   ]
  },
  {
   "cell_type": "code",
   "execution_count": null,
   "metadata": {},
   "outputs": [],
   "source": [
    "df_test = get_llm_distances(df_llm, \"imgs/q11/doc_info.csv\", \"tests/data/test_ids.csv\")\n",
    "df_test.head(30)"
   ]
  },
  {
   "cell_type": "code",
   "execution_count": null,
   "metadata": {},
   "outputs": [],
   "source": [
    "df_matching = get_matches(df_test)\n",
    "print(df_matching.query(\"found == False\"))\n",
    "df_matching[df_matching.found]"
   ]
  },
  {
   "cell_type": "code",
   "execution_count": null,
   "metadata": {},
   "outputs": [],
   "source": [
    "# plot the distribution of ID distances\n",
    "plt.figure()\n",
    "plt.title('LLM Levenshtein distances from test IDs')\n",
    "plt.hist(df_test.id_distance, bins=[i-0.5 for i in range(10)], label=r'# $d_\\mathrm{ID} \\leq 2$ = ' + f'{len(df_test[df_test.id_distance <= 2])}')\n",
    "plt.xlabel('Levenshtein distance')\n",
    "plt.ylabel('Count')\n",
    "plt.legend()\n",
    "plt.savefig('hist_llm_ID_leven_distances.png')"
   ]
  },
  {
   "cell_type": "code",
   "execution_count": null,
   "metadata": {},
   "outputs": [],
   "source": [
    "# plot the distribution of last name distances\n",
    "plt.figure()\n",
    "plt.title('LLM Levenshtein distances from test last names')\n",
    "plt.hist(df_test.lastname_distance, bins=[i-0.5 for i in range(15)], label=r'# $d_\\mathrm{last} \\leq 2$ = ' + f'{len(df_test[df_test.lastname_distance <= 2])}')\n",
    "plt.xlabel('Levenshtein distance')\n",
    "plt.ylabel('Count')\n",
    "plt.legend()\n",
    "plt.savefig('hist_llm_lastname_leven_distances.png')"
   ]
  },
  {
   "cell_type": "code",
   "execution_count": null,
   "metadata": {},
   "outputs": [],
   "source": [
    "# Combine the two histograms subplots\n",
    "fig, axs = plt.subplots(2, 1, figsize=(6, 8))\n",
    "fig.suptitle('LLM Levenshtein distances from test IDs and last names')\n",
    "axs[0].hist(df_test.id_distance, bins=[i-0.5 for i in range(10)], label=r'# $d_\\mathrm{ID} \\leq 2$ = ' + f'{len(df_test[df_test.id_distance <= 2])}')\n",
    "axs[0].set_xlabel('Levenshtein distance')\n",
    "axs[0].set_ylabel('ID Pairs Count')\n",
    "axs[0].legend()\n",
    "axs[1].hist(df_test.lastname_distance, bins=[i-0.5 for i in range(15)], label=r'# $d_\\mathrm{last} \\leq 2$ = ' + f'{len(df_test[df_test.lastname_distance <= 2])}')\n",
    "axs[1].set_xlabel('Levenshtein distance')\n",
    "axs[1].set_ylabel('Name Pairs Count')\n",
    "axs[1].legend()\n",
    "plt.tight_layout()\n",
    "plt.savefig('hist_llm_ID_lastname_leven_distances.png')\n",
    "plt.show()"
   ]
  }
 ],
 "metadata": {
  "kernelspec": {
   "display_name": "outlines",
   "language": "python",
   "name": "python3"
  },
  "language_info": {
   "codemirror_mode": {
    "name": "ipython",
    "version": 3
   },
   "file_extension": ".py",
   "mimetype": "text/x-python",
   "name": "python",
   "nbconvert_exporter": "python",
   "pygments_lexer": "ipython3",
   "version": "3.10.15"
  }
 },
 "nbformat": 4,
 "nbformat_minor": 2
}
