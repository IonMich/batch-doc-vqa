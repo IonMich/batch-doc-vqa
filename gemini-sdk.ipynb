{
 "cells": [
  {
   "cell_type": "code",
   "execution_count": 1,
   "metadata": {},
   "outputs": [],
   "source": [
    "import os\n",
    "import re\n",
    "import json\n",
    "import base64\n",
    "import dotenv\n",
    "from google import genai\n",
    "\n",
    "dotenv.load_dotenv()\n",
    "\n",
    "def filepath_to_base64(filepath):\n",
    "    with open(filepath, \"rb\") as f:\n",
    "        return base64.b64encode(f.read()).decode(\"utf-8\")\n",
    "\n",
    "\n",
    "def get_imagepaths(folder, pattern):\n",
    "    images = []\n",
    "    for root, _, files in os.walk(folder):\n",
    "        for file in files:\n",
    "            if re.match(pattern, file):\n",
    "                images.append(os.path.join(root, file))\n",
    "    # sort by integers in the filename\n",
    "    images.sort(key=natural_sort_key)\n",
    "    return images\n",
    "\n",
    "\n",
    "def natural_sort_key(s):\n",
    "    return [\n",
    "        int(text) if text.isdigit() else text.lower() for text in re.split(r\"(\\d+)\", s)\n",
    "    ]\n",
    "\n",
    "def parse_json(json_output):\n",
    "    # Parsing out the markdown fencing\n",
    "    lines = json_output.splitlines()\n",
    "    for i, line in enumerate(lines):\n",
    "        if line == \"```json\":\n",
    "            json_output = \"\\n\".join(lines[i+1:])  # Remove everything before \"```json\"\n",
    "            json_output = json_output.split(\"```\")[0]  # Remove everything after the closing \"```\"\n",
    "            break  # Exit the loop once \"```json\" is found\n",
    "    return json_output"
   ]
  },
  {
   "cell_type": "code",
   "execution_count": 22,
   "metadata": {},
   "outputs": [],
   "source": [
    "\n",
    "client = genai.Client(api_key=os.getenv(\"GEMINI_API_KEY\"), http_options={'api_version':'v1alpha'})\n",
    "# model_id = \"gemini-2.0-flash-thinking-exp-1219\"\n",
    "model_id = \"gemini-2.0-flash-exp\"\n"
   ]
  },
  {
   "cell_type": "code",
   "execution_count": null,
   "metadata": {},
   "outputs": [],
   "source": [
    "response = client.models.generate_content(\n",
    "    model=model_id, contents='How does RLHF work?'\n",
    ")\n",
    "for part in response.candidates[0].content.parts:\n",
    "    if part.thought:\n",
    "        print(f\"Model Thought:\\n{part.text}\\n\")\n",
    "    else:\n",
    "        print(f\"\\nModel Response:\\n{part.text}\\n\")"
   ]
  },
  {
   "cell_type": "code",
   "execution_count": 25,
   "metadata": {},
   "outputs": [],
   "source": [
    "pages = [1, 3]\n",
    "folder = \"imgs/q11/\"\n",
    "pattern = r\"doc-\\d+-page-[\" + \"\".join([str(p) for p in pages]) + \"]-[A-Z0-9]+.png\"\n",
    "imagepaths = get_imagepaths(folder, pattern)\n",
    "imagepath = imagepaths[1]\n",
    "\n",
    "prompt = \"Describe the image in as much detail as possible.\"\n",
    "from PIL import Image\n",
    "\n",
    "im = Image.open(imagepath)\n",
    "\n",
    "from google.genai import types\n",
    "from pydantic import BaseModel, Field\n",
    "UNIVERSITY_ID_LEN = 8\n",
    "UNIVERSITY_ID_PATTERN = f\"^[0-9]{{{UNIVERSITY_ID_LEN}}}$\"\n",
    "UNIVERSITY_ID_ALIAS = \"ufid\"\n",
    "SECTION_NUMBER_PATTERN = r\"^\\d{5}$\"\n",
    "\n",
    "class QuizSubmissionSummary(BaseModel):\n",
    "    # student_first_name: str\n",
    "    # student_last_name: str\n",
    "    student_full_name: str = Field(\n",
    "        description=\"Full name of the student in the format First Last\"\n",
    "    )\n",
    "    university_id: str = Field(\n",
    "        # try also literal list of UFIDs\n",
    "        pattern=UNIVERSITY_ID_PATTERN,\n",
    "        alias=UNIVERSITY_ID_ALIAS,\n",
    "        description=f\"{UNIVERSITY_ID_LEN}-digit {UNIVERSITY_ID_ALIAS.capitalize()} of the student\",\n",
    "    )\n",
    "    section_number: str = Field(\n",
    "        pattern=SECTION_NUMBER_PATTERN,\n",
    "        description=\"5-digit section number of the student\",\n",
    "    )\n",
    "\n",
    "response = client.models.generate_content(\n",
    "    model=model_id,\n",
    "    contents=[\n",
    "        im,\n",
    "        prompt,\n",
    "    ],\n",
    "    config=types.GenerateContentConfig(\n",
    "        response_mime_type=\"application/json\", response_schema=QuizSubmissionSummary\n",
    "    ),\n",
    ")\n"
   ]
  },
  {
   "cell_type": "code",
   "execution_count": null,
   "metadata": {},
   "outputs": [],
   "source": [
    "for part in response.candidates[0].content.parts:\n",
    "    if part.thought:\n",
    "        print(f\"Model Thought:\\n{part.text}\\n\")\n",
    "    else:\n",
    "        print(f\"\\nModel Response:\\n{part.text}\\n\")"
   ]
  }
 ],
 "metadata": {
  "kernelspec": {
   "display_name": "outlines",
   "language": "python",
   "name": "python3"
  },
  "language_info": {
   "codemirror_mode": {
    "name": "ipython",
    "version": 3
   },
   "file_extension": ".py",
   "mimetype": "text/x-python",
   "name": "python",
   "nbconvert_exporter": "python",
   "pygments_lexer": "ipython3",
   "version": "3.10.15"
  }
 },
 "nbformat": 4,
 "nbformat_minor": 2
}
